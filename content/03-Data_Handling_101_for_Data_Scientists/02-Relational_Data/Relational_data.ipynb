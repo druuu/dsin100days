{
 "cells": [
  {
   "cell_type": "markdown",
   "metadata": {},
   "source": [
    "# Relational data\n",
    "\n",
    "## Relational data\n",
    "\n",
    "What is a relation, schema, tuple (disambiguate with Python's tuple data type)\n",
    "\n",
    "What is an rdbms? A brief intro!\n",
    "\n",
    "### Indices\n",
    "\n",
    "Primary Key, Foreign Key, Composite Key and their importance\n",
    "\n",
    "Data Redundancy and Data Normalization\n",
    "\n",
    "Feature constraints - Unique, Not Null\n",
    "\n",
    "### Intro to SQL\n",
    "\n",
    "Brief intro about Structured Query Language, Parts of a query, Data Definition Language (DDL), Data Manipulation Language (DML) etc.\n",
    "\n",
    "### Introduction to dimensions and measures\n",
    "\n",
    "Dimensions - Categorical data\n",
    "\n",
    "Measures - Numerical data\n",
    "\n",
    "Examples of each, etc.\n",
    "\n",
    "Scalar, Vector, Matrix, Tensor (n-dimensional data structure) Linking back to numpy's n-dimensional arrays\n",
    "\n",
    "### Data modeling and architechture in OLTP vs OLAP\n",
    "\n",
    "OLTP - Simple ER Model with tables created around subjects and connected with relations\n",
    "\n",
    "OLAP - Star/Snowflake schemas, where data is seggregated as dimensions and measures, Intro to Multi-dimensional Data Cubes (Hypercubes)\n"
   ]
  }
 ],
 "metadata": {
  "kernelspec": {
   "display_name": "Python 3",
   "language": "python",
   "name": "python3"
  },
  "language_info": {
   "codemirror_mode": {
    "name": "ipython",
    "version": 3
   },
   "file_extension": ".py",
   "mimetype": "text/x-python",
   "name": "python",
   "nbconvert_exporter": "python",
   "pygments_lexer": "ipython3",
   "version": "3.6.1"
  }
 },
 "nbformat": 4,
 "nbformat_minor": 2
}
